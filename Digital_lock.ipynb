{
 "cells": [
  {
   "cell_type": "code",
   "execution_count": 7,
   "id": "0892e9fd-9640-4834-a2f1-460aa449c4da",
   "metadata": {},
   "outputs": [],
   "source": [
    "import tkinter as tk\n",
    "from time import strftime\n",
    "\n",
    "# Create the main window\n",
    "root = tk.Tk()\n",
    "root.title(\"Digital Clock\")\n",
    "\n",
    "# Define the clock label with improved styling\n",
    "clock_label = tk.Label(root, \n",
    "                       font=(\"Helvetica\", 60), \n",
    "                       bg=\"black\", \n",
    "                       fg=\"cyan\", \n",
    "                       bd=30, \n",
    "                       relief=\"sunken\")\n",
    "clock_label.pack(anchor=\"center\", fill=\"both\", expand=True)\n",
    "\n",
    "# Function to update the time\n",
    "def update_time():\n",
    "    current_time = strftime(\"%H:%M:%S %p\")  # Added AM/PM format\n",
    "    clock_label.config(text=current_time)\n",
    "    clock_label.after(1000, update_time)\n",
    "\n",
    "# Initialize the clock\n",
    "update_time()\n",
    "\n",
    "# Run the main loop\n",
    "root.mainloop()\n"
   ]
  },
  {
   "cell_type": "code",
   "execution_count": null,
   "id": "f20d2269-9eb9-432a-a842-7045f74de90c",
   "metadata": {},
   "outputs": [],
   "source": []
  },
  {
   "cell_type": "code",
   "execution_count": null,
   "id": "9c929cba-5363-43a1-ba8c-af9234092dd8",
   "metadata": {},
   "outputs": [],
   "source": []
  }
 ],
 "metadata": {
  "kernelspec": {
   "display_name": "Python [conda env:base] *",
   "language": "python",
   "name": "conda-base-py"
  },
  "language_info": {
   "codemirror_mode": {
    "name": "ipython",
    "version": 3
   },
   "file_extension": ".py",
   "mimetype": "text/x-python",
   "name": "python",
   "nbconvert_exporter": "python",
   "pygments_lexer": "ipython3",
   "version": "3.12.7"
  }
 },
 "nbformat": 4,
 "nbformat_minor": 5
}
